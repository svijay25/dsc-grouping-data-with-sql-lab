{
 "cells": [
  {
   "cell_type": "markdown",
   "metadata": {},
   "source": [
    "# Grouping Data with SQL - Lab"
   ]
  },
  {
   "cell_type": "markdown",
   "metadata": {},
   "source": [
    "## Introduction\n",
    "\n",
    "In this lab, you'll query data from a table populated with Babe Ruth's career hitting statistics.  Then you'll use aggregate functions to pull interesting information from the table that basic queries cannot track. "
   ]
  },
  {
   "cell_type": "markdown",
   "metadata": {},
   "source": [
    "## Objectives"
   ]
  },
  {
   "cell_type": "markdown",
   "metadata": {},
   "source": [
    "* Describe the relationship between aggregate functions and `GROUP BY` statements\n",
    "* Use `Group BY` statements in SQL to apply aggregate functions like: `COUNT`, `MAX`, `MIN`, and `SUM`\n",
    "* Create an alias in a SQL query\n",
    "* Use the `HAVING` clause to compare different aggregates\n",
    "* Compare the difference between the `WHERE` and `HAVING` clause"
   ]
  },
  {
   "cell_type": "markdown",
   "metadata": {},
   "source": [
    "## Babe Ruth - Career Hitting Statistics\n",
    "\n",
    "The database you will be working with in this lab is located in the file `babe_ruth.db`. This database contains a single table, `babe_ruth_stats`. The table schema is:\n",
    "\n",
    "```\n",
    "CREATE TABLE babe_ruth_stats (\n",
    "  id INTEGER PRIMARY KEY,\n",
    "  year INTEGER,\n",
    "  team TEXT,\n",
    "  league TEXT,\n",
    "  doubles INTEGER,\n",
    "  triples INTEGER,\n",
    "  hits INTEGER,\n",
    "  HR INTEGER,\n",
    "  games INTEGER,\n",
    "  runs INTEGER,\n",
    "  RBI INTEGER,\n",
    "  at_bats INTEGER,\n",
    "  BB INTEGER,\n",
    "  SB INTEGER,\n",
    "  SO INTEGER,\n",
    "  AVG REAL\n",
    ")\n",
    "```\n",
    "\n",
    "The table contains the following data:\n",
    "\n",
    "year|team |league|doubles|triples|hits|HR|games|runs|RBI|at_bats|BB |SB|SO|AVG\n",
    "----|-----|------|-------|-------|----|--|-----|----|---|-------|---|--|--|------\n",
    "1914|\"BOS\"|\"AL\"  |1      |0      |2   |0 |5    |1   |2  |10     |0  |0 |4 |0.2\n",
    "1915|\"BOS\"|\"AL\"  |10     |1      |29  |4 |42   |16  |21 |92     |9  |0 |23|0.315\n",
    "1916|\"BOS\"|\"AL\"  |5      |3      |37  |3 |67   |18  |15 |136    |10 |0 |23|0.272\n",
    "1917|\"BOS\"|\"AL\"  |6      |3      |40  |2 |52   |14  |12 |123    |12 |0 |18|0.325\n",
    "1918|\"BOS\"|\"AL\"  |26     |11     |95  |11|95   |50  |66 |317    |58 |6 |58|0.3\n",
    "1919|\"BOS\"|\"AL\"  |34     |12     |139 |29|130  |103 |114|432    |101|7 |58|0.322\n",
    "1920|\"NY\" |\"AL\"  |36     |9      |172 |54|142  |158 |137|458    |150|14|80|0.376\n",
    "1921|\"NY\" |\"AL\"  |44     |16     |204 |59|152  |177 |171|540    |145|17|81|0.378\n",
    "1922|\"NY\" |\"AL\"  |24     |8      |128 |35|110  |94  |99 |406    |84 |2 |80|0.315\n",
    "1923|\"NY\" |\"AL\"  |45     |13     |205 |41|152  |151 |131|522    |170|17|93|0.393\n",
    "1924|\"NY\" |\"AL\"  |39     |7      |200 |46|153  |143 |121|529    |142|9 |81|0.378\n",
    "1925|\"NY\" |\"AL\"  |12     |2      |104 |25|98   |61  |66 |359    |59 |2 |68|0.29\n",
    "1926|\"NY\" |\"AL\"  |30     |5      |184 |47|152  |139 |146|495    |144|11|76|0.372\n",
    "1927|\"NY\" |\"AL\"  |29     |8      |192 |60|151  |158 |164|540    |137|7 |89|0.356\n",
    "1928|\"NY\" |\"AL\"  |29     |8      |173 |54|154  |163 |142|536    |137|4 |87|0.323\n",
    "1929|\"NY\" |\"AL\"  |26     |6      |172 |46|135  |121 |154|499    |72 |5 |60|0.345\n",
    "1930|\"NY\" |\"AL\"  |28     |9      |186 |49|145  |150 |153|518    |136|10|61|0.359\n",
    "1931|\"NY\" |\"AL\"  |31     |3      |199 |46|145  |149 |163|534    |128|5 |51|0.373\n",
    "1932|\"NY\" |\"AL\"  |13     |5      |156 |41|133  |120 |137|457    |130|2 |62|0.341\n",
    "1933|\"NY\" |\"AL\"  |21     |3      |138 |34|137  |97  |103|459    |114|4 |90|0.301\n",
    "1934|\"NY\" |\"AL\"  |17     |4      |105 |22|125  |78  |84 |365    |104|1 |63|0.288\n",
    "1935|\"BOS\"|\"NL\"  |0      |0      |13  |6 |28   |13  |12 |72     |20 |0 |24|0.181\n",
    "\n",
    "As you can see, each record in this table represents statistics for a baseball season."
   ]
  },
  {
   "cell_type": "markdown",
   "metadata": {},
   "source": [
    "## Connect to the Database"
   ]
  },
  {
   "cell_type": "markdown",
   "metadata": {},
   "source": [
    "Import `sqlite3` and `pandas`. Then, connect to the database in the `babe_ruth.db` file."
   ]
  },
  {
   "cell_type": "code",
   "execution_count": 1,
   "metadata": {},
   "outputs": [
    {
     "name": "stdout",
     "output_type": "stream",
     "text": [
      "   id  year team league  doubles  triples  hits  HR  games  runs  RBI  \\\n",
      "0   1  1914  BOS     AL        1        0     2   0      5     1    2   \n",
      "1   2  1915  BOS     AL       10        1    29   4     42    16   21   \n",
      "2   3  1916  BOS     AL        5        3    37   3     67    18   15   \n",
      "3   4  1917  BOS     AL        6        3    40   2     52    14   12   \n",
      "4   5  1918  BOS     AL       26       11    95  11     95    50   66   \n",
      "\n",
      "   at_bats  BB  SB  SO    AVG  \n",
      "0       10   0   0   4  0.200  \n",
      "1       92   9   0  23  0.315  \n",
      "2      136  10   0  23  0.272  \n",
      "3      123  12   0  18  0.325  \n",
      "4      317  58   6  58  0.300  \n"
     ]
    }
   ],
   "source": [
    "import sqlite3\n",
    "import pandas as pd\n",
    "conn = sqlite3.connect('babe_ruth.db')\n",
    "query = \"SELECT * FROM babe_ruth_stats\"\n",
    "df = pd.read_sql_query(query, conn)\n",
    "print(df.head())"
   ]
  },
  {
   "cell_type": "markdown",
   "metadata": {},
   "source": [
    "Now, write SQL queries to answer questions about the data in the `babe_ruth_stats` table. You can display all results using pandas for readability."
   ]
  },
  {
   "cell_type": "markdown",
   "metadata": {},
   "source": [
    "## Total Seasons\n",
    "Return the total number of years that Babe Ruth played professional baseball"
   ]
  },
  {
   "cell_type": "code",
   "execution_count": 3,
   "metadata": {},
   "outputs": [
    {
     "name": "stdout",
     "output_type": "stream",
     "text": [
      "Total number of seasons Babe Ruth played: 22\n"
     ]
    }
   ],
   "source": [
    "# Your code here\n",
    "query = \"SELECT COUNT(DISTINCT year) AS total_seasons FROM babe_ruth_stats\"\n",
    "df = pd.read_sql_query(query, conn)\n",
    "\n",
    "total_seasons = df['total_seasons'].iloc[0]\n",
    "print(f\"Total number of seasons Babe Ruth played: {total_seasons}\")"
   ]
  },
  {
   "cell_type": "markdown",
   "metadata": {},
   "source": [
    "## Seasons with NY\n",
    "Return the total number of years Babe Ruth played with the NY Yankees (i.e. where the `team` value is `\"NY\"`)."
   ]
  },
  {
   "cell_type": "code",
   "execution_count": 4,
   "metadata": {},
   "outputs": [
    {
     "name": "stdout",
     "output_type": "stream",
     "text": [
      "Total number of seasons Babe Ruth played with NY Yankees: 15\n"
     ]
    }
   ],
   "source": [
    "# Your code here\n",
    "query = \"SELECT COUNT(DISTINCT year) AS total_seasons_with_ny FROM babe_ruth_stats WHERE team = 'NY'\"\n",
    "df = pd.read_sql_query(query, conn)\n",
    "total_seasons_with_ny = df['total_seasons_with_ny'].iloc[0]\n",
    "print(f\"Total number of seasons Babe Ruth played with NY Yankees: {total_seasons_with_ny}\")"
   ]
  },
  {
   "cell_type": "markdown",
   "metadata": {},
   "source": [
    "## Most Home Runs\n",
    "\n",
    "Return the row with the most HR that Babe Ruth hit in one season."
   ]
  },
  {
   "cell_type": "code",
   "execution_count": 5,
   "metadata": {},
   "outputs": [
    {
     "name": "stdout",
     "output_type": "stream",
     "text": [
      "Row with the most HR:\n",
      "   id  year team league  doubles  triples  hits  HR  games  runs  RBI  \\\n",
      "0  14  1927   NY     AL       29        8   192  60    151   158  164   \n",
      "\n",
      "   at_bats   BB  SB  SO    AVG  \n",
      "0      540  137   7  89  0.356  \n"
     ]
    }
   ],
   "source": [
    "# Your code here\n",
    "query = \"\"\"\n",
    "SELECT *\n",
    "FROM babe_ruth_stats\n",
    "WHERE HR = (SELECT MAX(HR) FROM babe_ruth_stats)\n",
    "\"\"\"\n",
    "df = pd.read_sql_query(query, conn)\n",
    "print(\"Row with the most HR:\")\n",
    "print(df)"
   ]
  },
  {
   "cell_type": "markdown",
   "metadata": {},
   "source": [
    "## Least HR\n",
    "Select the row with the least number of HR hit in one season."
   ]
  },
  {
   "cell_type": "code",
   "execution_count": 6,
   "metadata": {},
   "outputs": [
    {
     "name": "stdout",
     "output_type": "stream",
     "text": [
      "Row with the least HR:\n",
      "   id  year team league  doubles  triples  hits  HR  games  runs  RBI  \\\n",
      "0   1  1914  BOS     AL        1        0     2   0      5     1    2   \n",
      "\n",
      "   at_bats  BB  SB  SO  AVG  \n",
      "0       10   0   0   4  0.2  \n"
     ]
    }
   ],
   "source": [
    "# Your code here\n",
    "query = \"\"\"\n",
    "SELECT *\n",
    "FROM babe_ruth_stats\n",
    "WHERE HR = (SELECT MIN(HR) FROM babe_ruth_stats)\n",
    "\"\"\"\n",
    "df = pd.read_sql_query(query, conn)\n",
    "print(\"Row with the least HR:\")\n",
    "print(df)"
   ]
  },
  {
   "cell_type": "markdown",
   "metadata": {},
   "source": [
    "## Total HR\n",
    "Return the total number of HR hit by Babe Ruth during his career."
   ]
  },
  {
   "cell_type": "code",
   "execution_count": 7,
   "metadata": {},
   "outputs": [
    {
     "name": "stdout",
     "output_type": "stream",
     "text": [
      "Total number of HR hit by Babe Ruth during his career: 714\n"
     ]
    }
   ],
   "source": [
    "# Your code here\n",
    "query = \"SELECT SUM(HR) AS total_hr FROM babe_ruth_stats\"\n",
    "df = pd.read_sql_query(query, conn)\n",
    "total_hr = df['total_hr'].iloc[0]\n",
    "print(f\"Total number of HR hit by Babe Ruth during his career: {total_hr}\")"
   ]
  },
  {
   "cell_type": "markdown",
   "metadata": {},
   "source": [
    "##  Five Worst HR Seasons With at Least 100 Games Played\n",
    "Above you saw that Babe Ruth hit 0 home runs in his first year when he played only five games.  To avoid this and other extreme  outliers, first filter the data to include only those years in which Ruth played in at least 100 games. Then, select all of the columns for the 5 worst seasons, in terms of the number of home runs, where he played over 100 games."
   ]
  },
  {
   "cell_type": "code",
   "execution_count": 9,
   "metadata": {},
   "outputs": [
    {
     "name": "stdout",
     "output_type": "stream",
     "text": [
      "Five worst HR seasons with at least 100 games played:\n",
      "   id  year team league  doubles  triples  hits  HR  games  runs  RBI  \\\n",
      "0  21  1934   NY     AL       17        4   105  22    125    78   84   \n",
      "1   6  1919  BOS     AL       34       12   139  29    130   103  114   \n",
      "2  20  1933   NY     AL       21        3   138  34    137    97  103   \n",
      "3   9  1922   NY     AL       24        8   128  35    110    94   99   \n",
      "4  10  1923   NY     AL       45       13   205  41    152   151  131   \n",
      "\n",
      "   at_bats   BB  SB  SO    AVG  \n",
      "0      365  104   1  63  0.288  \n",
      "1      432  101   7  58  0.322  \n",
      "2      459  114   4  90  0.301  \n",
      "3      406   84   2  80  0.315  \n",
      "4      522  170  17  93  0.393  \n"
     ]
    }
   ],
   "source": [
    "# Your code here\n",
    "# Query to filter, sort, and select the five worst HR seasons with at least 100 games played\n",
    "query = \"\"\"\n",
    "SELECT *\n",
    "FROM babe_ruth_stats\n",
    "WHERE games >= 100\n",
    "ORDER BY HR ASC\n",
    "LIMIT 5\n",
    "\"\"\"\n",
    "\n",
    "# Execute the query and load the result into a pandas DataFrame\n",
    "df = pd.read_sql_query(query, conn)\n",
    "\n",
    "# Display the five worst HR seasons with at least 100 games played\n",
    "print(\"Five worst HR seasons with at least 100 games played:\")\n",
    "print(df)\n"
   ]
  },
  {
   "cell_type": "markdown",
   "metadata": {},
   "source": [
    "## Average Batting Average\n",
    "Select the average, `AVG`, of Ruth's batting averages.  The header of the result would be `AVG(AVG)` which is quite confusing, so provide an alias of `career_average`."
   ]
  },
  {
   "cell_type": "code",
   "execution_count": 10,
   "metadata": {},
   "outputs": [
    {
     "name": "stdout",
     "output_type": "stream",
     "text": [
      "Career average batting average of Babe Ruth: 0.32286363636363635\n"
     ]
    }
   ],
   "source": [
    "# Your code here\n",
    "# Query to calculate the average of Ruth's batting averages and provide an alias\n",
    "query = \"SELECT AVG(AVG) AS career_average FROM babe_ruth_stats\"\n",
    "\n",
    "# Execute the query and load the result into a pandas DataFrame\n",
    "df = pd.read_sql_query(query, conn)\n",
    "\n",
    "# Display the average batting average\n",
    "career_average = df['career_average'].iloc[0]\n",
    "print(f\"Career average batting average of Babe Ruth: {career_average}\")"
   ]
  },
  {
   "cell_type": "markdown",
   "metadata": {},
   "source": [
    "## Number of Years with Over 300 Times On Base\n",
    "We want to know the years in which Ruth successfully reached base over 300 times.  We need to add `hits` and `BB` to calculate how many times Ruth reached base.  Simply add the two columns together (ie: `SELECT [columnName] + [columnName] AS ...`) and give this value an alias of `on_base`.  Select the `year` and `on_base` for only those years with an `on_base` over 300.  "
   ]
  },
  {
   "cell_type": "code",
   "execution_count": 11,
   "metadata": {},
   "outputs": [
    {
     "name": "stdout",
     "output_type": "stream",
     "text": [
      "Years with over 300 times on base:\n",
      "   year  on_base\n",
      "0  1920      322\n",
      "1  1921      349\n",
      "2  1923      375\n",
      "3  1924      342\n",
      "4  1926      328\n",
      "5  1927      329\n",
      "6  1928      310\n",
      "7  1930      322\n",
      "8  1931      327\n"
     ]
    }
   ],
   "source": [
    "# Your code here\n",
    "# Query to calculate the total number of times on base and filter the years with over 300 times on base\n",
    "query = \"\"\"\n",
    "SELECT year, (hits + BB) AS on_base\n",
    "FROM babe_ruth_stats\n",
    "WHERE (hits + BB) > 300\n",
    "\"\"\"\n",
    "\n",
    "# Execute the query and load the result into a pandas DataFrame\n",
    "df = pd.read_sql_query(query, conn)\n",
    "\n",
    "# Display the years with over 300 times on base\n",
    "print(\"Years with over 300 times on base:\")\n",
    "print(df)"
   ]
  },
  {
   "cell_type": "markdown",
   "metadata": {},
   "source": [
    "## Total Years and Hits Per Team\n",
    "Select the total number of years played (as `num_seasons`) and total hits (as `total_hits`) Babe Ruth had for each team he played for. The result should have 2 rows, one for each team."
   ]
  },
  {
   "cell_type": "code",
   "execution_count": 12,
   "metadata": {},
   "outputs": [
    {
     "name": "stdout",
     "output_type": "stream",
     "text": [
      "Total years and hits per team:\n",
      "  team  num_seasons  total_hits\n",
      "0  BOS            7         355\n",
      "1   NY           15        2518\n"
     ]
    }
   ],
   "source": [
    "# Your code here\n",
    "# Query to calculate the total number of years played and total hits for each team\n",
    "query = \"\"\"\n",
    "SELECT team, COUNT(year) AS num_seasons, SUM(hits) AS total_hits\n",
    "FROM babe_ruth_stats\n",
    "GROUP BY team\n",
    "\"\"\"\n",
    "\n",
    "# Execute the query and load the result into a pandas DataFrame\n",
    "df = pd.read_sql_query(query, conn)\n",
    "\n",
    "# Display the total number of years played and total hits for each team\n",
    "print(\"Total years and hits per team:\")\n",
    "print(df)\n"
   ]
  },
  {
   "cell_type": "markdown",
   "metadata": {},
   "source": [
    "## Teams with More than 10 Seasons\n",
    "Repeat the above query, this time only including teams where he played for more than 10 years.\n",
    "\n",
    "**Hint:** Think about whether this filtering occurs before or after the `GROUP BY`. If before, that's a `WHERE`. If after, that's a `HAVING`."
   ]
  },
  {
   "cell_type": "code",
   "execution_count": 13,
   "metadata": {},
   "outputs": [
    {
     "name": "stdout",
     "output_type": "stream",
     "text": [
      "Teams with more than 10 seasons:\n",
      "  team  num_seasons  total_hits\n",
      "0   NY           15        2518\n"
     ]
    }
   ],
   "source": [
    "# Your code here\n",
    "# Query to calculate the total number of years played and total hits for each team with more than 10 seasons\n",
    "query = \"\"\"\n",
    "SELECT team, COUNT(year) AS num_seasons, SUM(hits) AS total_hits\n",
    "FROM babe_ruth_stats\n",
    "GROUP BY team\n",
    "HAVING COUNT(year) > 10\n",
    "\"\"\"\n",
    "\n",
    "# Execute the query and load the result into a pandas DataFrame\n",
    "df = pd.read_sql_query(query, conn)\n",
    "\n",
    "# Display the total number of years played and total hits for each team with more than 10 seasons\n",
    "print(\"Teams with more than 10 seasons:\")\n",
    "print(df)\n"
   ]
  },
  {
   "cell_type": "markdown",
   "metadata": {},
   "source": [
    "## Team with Highest Average At Bats\n",
    "\n",
    "Select the name of the team and the average at bats per season (as `average_at_bats`), for the team where he averaged the highest at bats."
   ]
  },
  {
   "cell_type": "code",
   "execution_count": 14,
   "metadata": {},
   "outputs": [
    {
     "name": "stdout",
     "output_type": "stream",
     "text": [
      "Team with the highest average at bats per season:\n",
      "  team  average_at_bats\n",
      "0   NY       481.133333\n"
     ]
    }
   ],
   "source": [
    "# Your code here\n",
    "# Query to calculate the average at bats per season for each team and select the team with the highest average\n",
    "query = \"\"\"\n",
    "SELECT team, AVG(at_bats) AS average_at_bats\n",
    "FROM babe_ruth_stats\n",
    "GROUP BY team\n",
    "ORDER BY average_at_bats DESC\n",
    "LIMIT 1\n",
    "\"\"\"\n",
    "\n",
    "# Execute the query and load the result into a pandas DataFrame\n",
    "df = pd.read_sql_query(query, conn)\n",
    "\n",
    "# Display the team with the highest average at bats per season\n",
    "print(\"Team with the highest average at bats per season:\")\n",
    "print(df)"
   ]
  },
  {
   "cell_type": "markdown",
   "metadata": {},
   "source": [
    "## Teams with Average At Bats Over 100\n",
    "\n",
    "Repeat the above query, this time returning all teams where the `average_at_bats` was over 100."
   ]
  },
  {
   "cell_type": "code",
   "execution_count": 15,
   "metadata": {},
   "outputs": [
    {
     "name": "stdout",
     "output_type": "stream",
     "text": [
      "Teams with average at bats over 100 per season:\n",
      "  team  average_at_bats\n",
      "0  BOS       168.857143\n",
      "1   NY       481.133333\n"
     ]
    }
   ],
   "source": [
    "# Your code here\n",
    "# Query to calculate the average at bats per season for each team and filter teams with average at bats over 100\n",
    "query = \"\"\"\n",
    "SELECT team, AVG(at_bats) AS average_at_bats\n",
    "FROM babe_ruth_stats\n",
    "GROUP BY team\n",
    "HAVING AVG(at_bats) > 100\n",
    "\"\"\"\n",
    "\n",
    "# Execute the query and load the result into a pandas DataFrame\n",
    "df = pd.read_sql_query(query, conn)\n",
    "\n",
    "# Display the teams with average at bats over 100 per season\n",
    "print(\"Teams with average at bats over 100 per season:\")\n",
    "print(df)\n"
   ]
  },
  {
   "cell_type": "markdown",
   "metadata": {},
   "source": [
    "## Summary"
   ]
  },
  {
   "cell_type": "markdown",
   "metadata": {},
   "source": [
    "Well done! In this lab, you continued to add complexity to SQL statements, which included using some aggregate functions, the `GROUP BY` statement, and the `HAVING` statement. You wrote queries that showed Babe Ruth's total years and home runs per team as well as selected only years that met a minimum value of our calculated on base attribute. "
   ]
  }
 ],
 "metadata": {
  "kernelspec": {
   "display_name": "Python 3 (ipykernel)",
   "language": "python",
   "name": "python3"
  },
  "language_info": {
   "codemirror_mode": {
    "name": "ipython",
    "version": 3
   },
   "file_extension": ".py",
   "mimetype": "text/x-python",
   "name": "python",
   "nbconvert_exporter": "python",
   "pygments_lexer": "ipython3",
   "version": "3.12.4"
  },
  "toc": {
   "base_numbering": 1,
   "nav_menu": {},
   "number_sections": true,
   "sideBar": true,
   "skip_h1_title": false,
   "title_cell": "Table of Contents",
   "title_sidebar": "Contents",
   "toc_cell": false,
   "toc_position": {},
   "toc_section_display": true,
   "toc_window_display": false
  }
 },
 "nbformat": 4,
 "nbformat_minor": 4
}
